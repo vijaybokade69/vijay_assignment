{
 "cells": [
  {
   "cell_type": "markdown",
   "id": "e95c8bc0",
   "metadata": {},
   "source": [
    "\n",
    " \n",
    "*****  Assignment-1 *********\n"
   ]
  },
  {
   "cell_type": "code",
   "execution_count": null,
   "id": "2aa2c9d5",
   "metadata": {},
   "outputs": [],
   "source": [
    "#Write a Python program to check if a number is positive, negative or zero\n",
    "a=int(input())\n",
    "\n",
    "if((a>0)):\n",
    "    print(\"positive\")\n",
    "elif((a==0)):\n",
    "    print(\"zero\")\n",
    "else:\n",
    "    print(\"negative\")"
   ]
  },
  {
   "cell_type": "code",
   "execution_count": null,
   "id": "2042fd08",
   "metadata": {},
   "outputs": [],
   "source": [
    "#Write python program that swap two number with temp variable and\n",
    "#without temp variable.\n",
    "\n",
    "#swap number\n",
    "vijay=1300\n",
    "kishan=7800\n",
    "print(vijay,kishan)\n",
    "meet=vijay#temp variable\n",
    "vijay=kishan\n",
    "kishan=meet\n",
    "print(vijay,kishan)\n",
    "\n",
    "\n",
    "\n"
   ]
  },
  {
   "cell_type": "code",
   "execution_count": null,
   "id": "086d2255",
   "metadata": {},
   "outputs": [],
   "source": [
    "#without temp variable.\n",
    "a,b=200,300\n",
    "print(a,b)\n",
    "b,a=a,b\n",
    "print(a,b)"
   ]
  },
  {
   "cell_type": "code",
   "execution_count": null,
   "id": "3b5d083f",
   "metadata": {},
   "outputs": [],
   "source": [
    "#Write a Python program to find whether a given number is even or odd,\n",
    "#print out an appropriate message to the user\n",
    "a=int(input())\n",
    "if (a%2==0):\n",
    "    print(\" number is even\")\n",
    "else:\n",
    "        print(\"number is odd\")"
   ]
  },
  {
   "cell_type": "code",
   "execution_count": null,
   "id": "022559c9",
   "metadata": {},
   "outputs": [],
   "source": [
    "#que4 factorial number.\n",
    "#5!=5*4*3*2*1\n",
    "num = int(input(\"Enter a number: \"))    \n",
    "factorial = 1    \n",
    "if num < 0:    \n",
    "   print(\" Factorial does not exist for negative numbers\")    \n",
    "elif num == 0:    \n",
    "   print(\"The factorial of 0 is 1\")    \n",
    "else:    \n",
    "   for i in range(1,num + 1):    \n",
    "       factorial = factorial*i #5,5*4,20*3,60*2   \n",
    "   print(\"The factorial of\",num,\"is\",factorial)  \n",
    "   "
   ]
  },
  {
   "cell_type": "code",
   "execution_count": null,
   "id": "b66d9059",
   "metadata": {},
   "outputs": [],
   "source": [
    "#fibonaci series\n",
    "\n",
    "n = int(input())\n",
    "n1, n2 = 0, 1\n",
    "count = 0\n",
    "\n",
    "if n <= 0:\n",
    "   print(\"please enter a positive integer\")\n",
    "elif n == 1:\n",
    "   print(\"fibonacci series upto\",n,\":\")\n",
    "   print(n1)\n",
    "else:\n",
    "   print(\"fibonacci series:\")\n",
    "   while count < n:\n",
    "       print(n1)\n",
    "       nth = n1 + n2\n",
    "    \n",
    "       n1 = n2\n",
    "       n2 = nth\n",
    "       count += 1\n",
    "\n"
   ]
  },
  {
   "cell_type": "code",
   "execution_count": null,
   "id": "0338a141",
   "metadata": {},
   "outputs": [],
   "source": []
  },
  {
   "cell_type": "code",
   "execution_count": null,
   "id": "bcfc734f",
   "metadata": {},
   "outputs": [],
   "source": []
  },
  {
   "cell_type": "code",
   "execution_count": null,
   "id": "cca0750a",
   "metadata": {},
   "outputs": [],
   "source": [
    "ch=input()\n",
    "string=ch.lower()\n",
    "print(string)\n",
    "ch_1=\"a\"\n",
    "ch_2=\"e\"\n",
    "ch_3=\"o\"\n",
    "ch_4=\"i\"\n",
    "ch_5=\"u\"\n",
    "if ((ch_1==ch or  ch_2==ch) or (ch_3==ch or ch_4==ch) )or ch_5==ch:\n",
    "    print(\"character is vowel\")\n",
    "    \n",
    "else:\n",
    "    print(\" character is not vowel\")"
   ]
  },
  {
   "cell_type": "markdown",
   "id": "b2091882",
   "metadata": {},
   "source": []
  },
  {
   "cell_type": "code",
   "execution_count": null,
   "id": "53b92a2b",
   "metadata": {},
   "outputs": [],
   "source": [
    "# sum of three numbers .\n",
    "#if the values are same then print zero\n",
    "a=int(input())\n",
    "b=int(input())\n",
    "c=int(input())\n",
    "z=a+b+c\n",
    "\n",
    "if a==b or b==c or a==c:\n",
    "    print(\"sum is zero\")\n",
    "else:\n",
    "    print(z)"
   ]
  },
  {
   "cell_type": "code",
   "execution_count": null,
   "id": "50322eaf",
   "metadata": {},
   "outputs": [],
   "source": [
    "#Write a Python program that will return true if the two given integervalues\n",
    "#are equal or their sum or difference is 5.\n",
    "a=int(input())\n",
    "b=int(input())\n",
    "c=a+b\n",
    "d=a-b\n",
    "if (a==b or c==5 or d==5):\n",
    "    print(\"true\")"
   ]
  },
  {
   "cell_type": "code",
   "execution_count": null,
   "id": "643d2426",
   "metadata": {},
   "outputs": [],
   "source": [
    "#Write a python program to sum of the first n positive integers.\n",
    "n=int(input())\n",
    "sum=n*(n+1)//2\n",
    "print(sum)"
   ]
  },
  {
   "cell_type": "code",
   "execution_count": null,
   "id": "f7270d41",
   "metadata": {},
   "outputs": [],
   "source": [
    "#write a Python program to calculate the length of a string\n",
    "str=\"hello i am vijay.......\"\n",
    "len(str)"
   ]
  },
  {
   "cell_type": "code",
   "execution_count": null,
   "id": "1d48d148",
   "metadata": {},
   "outputs": [],
   "source": [
    "#Write a Python program to count the number of characters (character\n",
    "#frequency) in a string.\n",
    "str1=input()\n",
    "str2=''\n",
    "for i in str1:\n",
    "    if i not in str2:\n",
    "        str2=str2+i\n",
    "        print(i,str1.count(i))\n"
   ]
  },
  {
   "cell_type": "code",
   "execution_count": null,
   "id": "4c0358e2",
   "metadata": {},
   "outputs": [],
   "source": [
    "#Write a Python program to count occurrences of a substring in a string.\n",
    "str=\"hello i am vijay\"\n",
    "str.count(\"l\")"
   ]
  },
  {
   "cell_type": "code",
   "execution_count": null,
   "id": "0e8454a5",
   "metadata": {},
   "outputs": [],
   "source": [
    "#Write a Python program to count the occurrences of each word in a given\n",
    "#sentence.\n",
    "\n",
    "str1=input()\n",
    "iter1=str1.split()\n",
    "str2=''\n",
    "for i in iter1:\n",
    "    if i not in str2:\n",
    "        str2=str2+i\n",
    "        print(i,str1.count(i))"
   ]
  },
  {
   "cell_type": "code",
   "execution_count": null,
   "id": "0c6685e3",
   "metadata": {},
   "outputs": [],
   "source": [
    "#Write a Python program to get a single string from two given strings,\n",
    "#separated by a space and swap the first two characters of each string.\n",
    "str1,str2=\"abc\",\"xyz\"\n",
    "print(str1,str2)\n",
    "str2,str1=str1,str2\n",
    "print(str1,str2)\n",
    "x=str2[:2]+str1[2:]\n",
    "y=str1[:2]+str2[2:]\n",
    "print(x,end=\" \")\n",
    "print(y)"
   ]
  },
  {
   "cell_type": "code",
   "execution_count": null,
   "id": "dcb038f7",
   "metadata": {},
   "outputs": [],
   "source": [
    "str1 = \"abc\"\n",
    "str2 =\"xyz\"\n",
    " \n",
    "#swap first two characters of given string\n",
    "x = str2[:2] + str1[2:]\n",
    "y = str1[:2] + str2[2:]\n",
    " \n",
    "\n",
    "print(x,end=\" \")\n",
    "print(y)"
   ]
  },
  {
   "cell_type": "code",
   "execution_count": null,
   "id": "47c7062c",
   "metadata": {},
   "outputs": [],
   "source": [
    "#Write a Python program to add 'ing' at the end of a given string (length\n",
    "#should be at least 3). If the given string already ends with 'ing' then add 'ly'\n",
    "#instead if the string length of the given string is less than 3, leave it\n",
    "#unchanged.\n",
    "a=input()\n",
    "x=len(a)\n",
    "if x<3:\n",
    "    print(a)\n",
    "elif a[-3:]==\"ing\":\n",
    "    print(a+\"ly\")\n",
    "else:\n",
    "    print(a+\"ing\")"
   ]
  },
  {
   "cell_type": "code",
   "execution_count": null,
   "id": "ad0c7d5c",
   "metadata": {},
   "outputs": [],
   "source": []
  },
  {
   "cell_type": "code",
   "execution_count": null,
   "id": "cb35076b",
   "metadata": {},
   "outputs": [],
   "source": [
    "#Write a Python function that takes a list of words and returns the length\n",
    "#of the longest one\n",
    "a=input()\n",
    "b=input()\n",
    "x=len(a)\n",
    "y=len(b)\n",
    "if x>y:\n",
    "    print(a)\n",
    "elif x==y:\n",
    "    print(\"string length is equal\")\n",
    "else:\n",
    "    print(b)"
   ]
  },
  {
   "cell_type": "code",
   "execution_count": null,
   "id": "b3414561",
   "metadata": {},
   "outputs": [],
   "source": [
    "# Write a Python function to reverses a string \n",
    "#if its length is a multiple of 4.\n",
    "str=input()\n",
    "x=len(str)\n",
    "r=str[::-1]\n",
    "if x%4==0:\n",
    "    print(r)"
   ]
  },
  {
   "cell_type": "code",
   "execution_count": null,
   "id": "74e72e17",
   "metadata": {},
   "outputs": [],
   "source": [
    "#Write a Python program to get a string made of the first 2 and the last 2\n",
    "#chars from a given a string. If the string length islessthan 2,\n",
    "#return instead of the empty string.\n",
    "\n",
    "str=input()\n",
    "x=len(str)\n",
    "# print(x)\n",
    "str2=str[:2]\n",
    "# print(str2)\n",
    "str3=str[-2:]\n",
    "# print(str3)\n",
    "str4=str2+str3\n",
    "if x<2:\n",
    "    print(\"empty string\")\n",
    "else:\n",
    "    print(str4)"
   ]
  },
  {
   "cell_type": "code",
   "execution_count": null,
   "id": "1f0d2330",
   "metadata": {},
   "outputs": [],
   "source": [
    "#Write a Python function to insert a string in the middle of a string.\n",
    "a=input()\n",
    "idx= len(a)//2\n",
    "b=input()\n",
    "c=a[:idx]  + b + a[idx:]\n",
    "print(c)\n",
    "\n",
    "\n"
   ]
  },
  {
   "cell_type": "code",
   "execution_count": null,
   "id": "0a023b1b",
   "metadata": {},
   "outputs": [],
   "source": [
    "#'''Write a Python program to find the first appearance of the\n",
    "#substring 'not'and 'poor' from a given string, if 'not' \n",
    "#follows the 'poor', replace the whole'not'...'poor'substring\n",
    "#with 'good'. Return the resulting string'''"
   ]
  },
  {
   "cell_type": "code",
   "execution_count": 2,
   "id": "d6b604de",
   "metadata": {},
   "outputs": [
    {
     "data": {
      "text/plain": [
       "'you are good but  helpless.'"
      ]
     },
     "execution_count": 2,
     "metadata": {},
     "output_type": "execute_result"
    }
   ],
   "source": [
    "a='you are not poor but  helpless.'\n",
    "b = a.replace('not poor',\"good\")\n",
    "b\n"
   ]
  },
  {
   "cell_type": "code",
   "execution_count": 6,
   "id": "efa4db2e",
   "metadata": {},
   "outputs": [
    {
     "data": {
      "text/plain": [
       "['vj', 12, 'yrf']"
      ]
     },
     "execution_count": 6,
     "metadata": {},
     "output_type": "execute_result"
    }
   ],
   "source": [
    "a=[\"vj\",12]\n",
    "a.append(\"yrf\")\n",
    "a"
   ]
  },
  {
   "cell_type": "code",
   "execution_count": null,
   "id": "a08c6192",
   "metadata": {},
   "outputs": [],
   "source": []
  },
  {
   "cell_type": "code",
   "execution_count": null,
   "id": "7aae428d",
   "metadata": {},
   "outputs": [],
   "source": []
  },
  {
   "cell_type": "code",
   "execution_count": null,
   "id": "3ed79595",
   "metadata": {},
   "outputs": [],
   "source": []
  },
  {
   "cell_type": "code",
   "execution_count": null,
   "id": "dd258ddc",
   "metadata": {},
   "outputs": [],
   "source": []
  },
  {
   "cell_type": "code",
   "execution_count": null,
   "id": "95be5d64",
   "metadata": {},
   "outputs": [],
   "source": []
  },
  {
   "cell_type": "code",
   "execution_count": null,
   "id": "82cdbb38",
   "metadata": {},
   "outputs": [],
   "source": []
  }
 ],
 "metadata": {
  "kernelspec": {
   "display_name": "Python 3 (ipykernel)",
   "language": "python",
   "name": "python3"
  },
  "language_info": {
   "codemirror_mode": {
    "name": "ipython",
    "version": 3
   },
   "file_extension": ".py",
   "mimetype": "text/x-python",
   "name": "python",
   "nbconvert_exporter": "python",
   "pygments_lexer": "ipython3",
   "version": "3.9.12"
  }
 },
 "nbformat": 4,
 "nbformat_minor": 5
}

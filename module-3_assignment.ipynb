{
 "cells": [
  {
   "cell_type": "code",
   "execution_count": null,
   "id": "0b717bd7",
   "metadata": {},
   "outputs": [],
   "source": [
    "#1.what is list ?how will you reverse a list.\n",
    "#list is collection of data.it contain all type of data.it is ordered,indexed & mutable datatype.\n",
    "list1=[1,23,4,5,6,7]\n",
    "list1.reverse()\n",
    "print(list1)"
   ]
  },
  {
   "cell_type": "code",
   "execution_count": null,
   "id": "660199ed",
   "metadata": {},
   "outputs": [],
   "source": [
    "#2.How will you remove last object from a list?\n",
    "list1=[1,2,3,4,5,6,7,90]\n",
    "s=list1[-1]\n",
    "list1.remove(s)\n",
    "print(list1)"
   ]
  },
  {
   "cell_type": "code",
   "execution_count": null,
   "id": "ea6c9c44",
   "metadata": {},
   "outputs": [],
   "source": [
    "#3.Suppose list1 is [2, 33, 222, 14, and 25], what is list1 [-1]?\n",
    "list1=[2,33,222,14,25]\n",
    "a=list1[-1]\n",
    "print(a)"
   ]
  },
  {
   "cell_type": "code",
   "execution_count": null,
   "id": "c9e31989",
   "metadata": {},
   "outputs": [],
   "source": [
    "#4.Differentiate between append () and extend () methods.\n",
    "#--> append(): adds a single element to the end of the list.\n",
    "# extend(): add multiple individual elements to the end of the list.\n",
    "# Example\n",
    "str1 = 'python'\n",
    "list1 = [1,2,3,4]\n",
    "list1.append(str1)\n",
    "print(list1)\n",
    "list1.extend(str1)\n",
    "print(list1)"
   ]
  },
  {
   "cell_type": "code",
   "execution_count": 14,
   "id": "629ff262",
   "metadata": {},
   "outputs": [
    {
     "name": "stdout",
     "output_type": "stream",
     "text": [
      "largest number is: 25665\n",
      "smallest number is: 0\n",
      "sum of all elements: 25792\n"
     ]
    }
   ],
   "source": [
    "#5.Write a Python function to get the largest number,smallest num and sum of all from a list.\n",
    "\n",
    "\n",
    "list1=[0,99,1,2,3,4,5,6,7,25665]\n",
    "v=0\n",
    "x=max(list1)\n",
    "print('largest number is:',x)\n",
    "y=min(list1)\n",
    "print('smallest number is:',y)\n",
    "for i in list1:\n",
    "    v+=i\n",
    "print('sum of all elements:',v)\n"
   ]
  },
  {
   "cell_type": "code",
   "execution_count": null,
   "id": "e2e467a7",
   "metadata": {},
   "outputs": [],
   "source": [
    "#6.How will you compare two lists?\n",
    "l1=[1,2,3,5,6]\n",
    "l2=[1,2,3,5,6]\n",
    "if l1==l2:\n",
    "    print( 'true')\n",
    "else:\n",
    "    print( 'false')"
   ]
  },
  {
   "cell_type": "code",
   "execution_count": 7,
   "id": "74c57210",
   "metadata": {},
   "outputs": [
    {
     "name": "stdout",
     "output_type": "stream",
     "text": [
      "2\n"
     ]
    }
   ],
   "source": [
    "#7.Write a Python program to count the number of strings where the string \n",
    "#length is 2 or more and the first and last character are same from a given list of strings.\n",
    "# list of strings for word in words:\n",
    "list1=['yashvi','nayan','121']\n",
    "a=0\n",
    "for  i in list1:\n",
    "    if len(i)>1 and i[0]==i[-1]:\n",
    "        a+=1\n",
    "print(a)\n",
    "        \n",
    "\n"
   ]
  },
  {
   "cell_type": "code",
   "execution_count": null,
   "id": "5a78f6a1",
   "metadata": {},
   "outputs": [],
   "source": [
    "#8.Write a Python program to remove duplicates from a list.\n",
    "dup=[]\n",
    "ls1=[1,23,4,5,6,23]\n",
    "for i in ls1:\n",
    "    if i not in dup:\n",
    "        dup.append(i)\n",
    "print(dup)"
   ]
  },
  {
   "cell_type": "code",
   "execution_count": null,
   "id": "c20053ce",
   "metadata": {},
   "outputs": [],
   "source": [
    "#9.Write a Python program to check a list is empty or not.\n",
    "l1=[1,2,3]\n",
    "l2=len(l1)\n",
    "if l2 ==0:\n",
    "    print(\"empty list\")\n",
    "else:\n",
    "    print(\"not empty list\")\n"
   ]
  },
  {
   "cell_type": "code",
   "execution_count": null,
   "id": "03a94302",
   "metadata": {},
   "outputs": [],
   "source": [
    "#10.Write a Python function that takes two lists and returns true if they have at least one common member.\n",
    "l1=[1,23,3,'hii',34]\n",
    "l2=[1263,2032,1]\n",
    "str1=\"\"\n",
    "str2=''\n",
    "for i in l2:\n",
    "    str1=str1+str(i)\n",
    "\n",
    "for j in l1:\n",
    "    str2=str2+str(j)\n",
    "    \n",
    "if i in l1:\n",
    "    print(\"true\")\n",
    "else:\n",
    "    print('false')\n",
    "\n",
    "        "
   ]
  },
  {
   "cell_type": "code",
   "execution_count": null,
   "id": "7775db83",
   "metadata": {},
   "outputs": [],
   "source": [
    "#11.Write a Python program to generate and print a list of first and last 5 \n",
    "#elements where the values are square of numbers between 1 and 30.\n",
    "ls=[]\n",
    "for i in range (1,31):\n",
    "    if i not in ls:\n",
    "        ls.append(i**2)\n",
    "print(ls)\n",
    "ele=ls[:5]+ls[-5:]\n",
    "\n",
    "print(ele)\n"
   ]
  },
  {
   "cell_type": "code",
   "execution_count": null,
   "id": "a0148210",
   "metadata": {},
   "outputs": [],
   "source": [
    "#12.Write a Python function that takes a list and returns a new list with unique elements of the first list.\n",
    "new=[]\n",
    "ls1=[1,2,3,4,5,6,3,3,4]\n",
    "for i in ls1:\n",
    "    if ls1.count(i)==1:\n",
    "        new.append(i)\n",
    "print(new)"
   ]
  },
  {
   "cell_type": "code",
   "execution_count": null,
   "id": "b202a39e",
   "metadata": {},
   "outputs": [],
   "source": [
    "#13.Write a Python program to convert a list of characters into a string.\n",
    "l1=['hii','too']\n",
    "str1=\"\"\n",
    "for i in l1:\n",
    "    str1=str1+str(i)\n",
    "print(str1)"
   ]
  },
  {
   "cell_type": "code",
   "execution_count": null,
   "id": "217ba182",
   "metadata": {},
   "outputs": [],
   "source": [
    "#random valu baki che"
   ]
  },
  {
   "cell_type": "code",
   "execution_count": null,
   "id": "e817f2ca",
   "metadata": {},
   "outputs": [],
   "source": [
    "#14.Write a Python program to find the second smallest number in a list.\n",
    "l1=[1,2,3,4,5,6,7,8,9,0]\n",
    "x=min(l1)\n",
    "l1.remove(0)\n",
    "y=min(l1)\n",
    "print(\"second smallest no is:\",y)"
   ]
  },
  {
   "cell_type": "code",
   "execution_count": null,
   "id": "9028b725",
   "metadata": {},
   "outputs": [],
   "source": [
    "#15.Write a Python program to get unique values from a list\n",
    "l1=[0,0,13,25,3,2,3]\n",
    "new=[]\n",
    "for i in l1:\n",
    "    if l1.count(i)==1:\n",
    "        new.append(i)\n",
    "print(new)\n",
    "#if we want all elements only one time.\n",
    "for i in l1:\n",
    "    if i not in new:\n",
    "        new.append(i)\n",
    "print(new)        \n",
    "    \n",
    "        "
   ]
  },
  {
   "cell_type": "code",
   "execution_count": null,
   "id": "8ef416e1",
   "metadata": {},
   "outputs": [],
   "source": [
    "#16. Write a Python program to check whether a list contains a sub list.\n",
    "l1=[1,23,3,'hii',34]\n",
    "l2=[1263,2032,1]\n",
    "str1=''\n",
    "str2=\"\"\n",
    "for i in l1:\n",
    "    str(i)\n",
    "    str1=str1+str(i)\n",
    "print(str1)\n",
    "for j in l2:\n",
    "    str(j)\n",
    "    str2=str2+str(j)\n",
    "print(str2)\n",
    "if str1==str2:\n",
    "    print('true')\n",
    "else:\n",
    "    print('false')"
   ]
  },
  {
   "cell_type": "code",
   "execution_count": null,
   "id": "8c2d9789",
   "metadata": {},
   "outputs": [],
   "source": [
    "#17.Write a Python program to split a list into different variables.\n",
    "l1=[1,2,3,4,4]\n",
    "v=l1[0]\n",
    "x=l1[1]\n",
    "c=l1[2]\n",
    "z=l1[3]\n",
    "l=l1[4]\n",
    "print(v,x,z,c,l)"
   ]
  },
  {
   "cell_type": "code",
   "execution_count": null,
   "id": "632e8b5e",
   "metadata": {},
   "outputs": [],
   "source": [
    "#18.What is tuple? Difference between list and tuple.\n",
    "#---->tuple is collection data type to store multiple type of elements \n",
    "#it is same as list but it's immutable &list is mutable.\n"
   ]
  },
  {
   "cell_type": "code",
   "execution_count": null,
   "id": "135d23af",
   "metadata": {},
   "outputs": [],
   "source": [
    "#19.write a Python program to create a tuple with different data types.\n",
    "tup=(1,\"vijay\",True,False,1.3,[1,2,3],(1,2,34),{4,3,2,1},{\"key\":123})\n",
    "print(tup)"
   ]
  },
  {
   "cell_type": "code",
   "execution_count": null,
   "id": "a66ba7aa",
   "metadata": {},
   "outputs": [],
   "source": [
    "#20.Write a Python program to create a tuple with numbers\n",
    "tup=(1,2,3,4,5,5,6,7,78,8)\n",
    "print(tup)"
   ]
  },
  {
   "cell_type": "code",
   "execution_count": null,
   "id": "b5c95859",
   "metadata": {},
   "outputs": [],
   "source": [
    "#21.Write a Python program to convert a tuple to a string\n",
    "tup=(1,2,3,4,56,78,8,99,0)\n",
    "x=str(tup)\n",
    "print(x)\n",
    "type(x)"
   ]
  },
  {
   "cell_type": "code",
   "execution_count": null,
   "id": "810c6671",
   "metadata": {},
   "outputs": [],
   "source": []
  },
  {
   "cell_type": "code",
   "execution_count": null,
   "id": "f8fb5da4",
   "metadata": {},
   "outputs": [],
   "source": [
    "#22.Write a Python program to check whether an element exists within a tuple.\n",
    "tup=(1,2,3,4,5,6,7,8,9,0)\n",
    "tup1=(1,2,3)\n",
    "x=str(tup)\n",
    "y=str(tup1)\n",
    "type(x)\n",
    "if y in x:\n",
    "    print(x)\n",
    "else:\n",
    "    print(\"not exist\")\n",
    "#2nd.method\n",
    "tup=(1,2,3,4,5,6,7,8,9,0)\n",
    "tup1=(1,2,3)\n",
    "s1=''\n",
    "s2=''\n",
    "for i in tup:\n",
    "    i=str(i)\n",
    "    s1=s1+i\n",
    "\n",
    "for j in tup1:\n",
    "    j=str(j)\n",
    "    s2=s2+j\n",
    "    \n",
    "if s2 in s1:\n",
    "    print('exist')\n",
    "else:\n",
    "    print(\"doesn't exist\")\n",
    "    "
   ]
  },
  {
   "cell_type": "code",
   "execution_count": null,
   "id": "9b7ff298",
   "metadata": {},
   "outputs": [],
   "source": [
    "#23. Write a Python program to find the length of a tuple.\n",
    "tup=(1,2,3,4,5,6,7,8,0)\n",
    "len(tup)"
   ]
  },
  {
   "cell_type": "code",
   "execution_count": null,
   "id": "1d38ace0",
   "metadata": {},
   "outputs": [],
   "source": [
    "#24. Write a Python program to convert a list to a tuple.\n",
    "l1=[1,23,5,6,7,8,9]\n",
    "x=tuple(l1)\n",
    "print(x)\n",
    "type(x)"
   ]
  },
  {
   "cell_type": "code",
   "execution_count": null,
   "id": "16e370c2",
   "metadata": {},
   "outputs": [],
   "source": [
    "#25. Write a Python program to reverse a tuple.\n",
    "tup=(1,23,4,5,5,6,7,7,8)\n",
    "x=tup[-1::-1]\n",
    "print(x)"
   ]
  },
  {
   "cell_type": "code",
   "execution_count": null,
   "id": "6b9f9d40",
   "metadata": {},
   "outputs": [],
   "source": [
    "#26. Write a Python program to replace last value of tuples in a list.\n",
    "tup=(1,2,3,4,4,5,5,6,78,9)\n",
    "l1=[]\n",
    "x=list(tup)\n",
    "y=x[-1]\n",
    "l1.append(y)\n",
    "x.remove(9)\n",
    "x.append(l1)\n",
    "z=tuple(x)\n",
    "print(z)"
   ]
  },
  {
   "cell_type": "code",
   "execution_count": null,
   "id": "4b528061",
   "metadata": {},
   "outputs": [],
   "source": [
    "#27.Write a Python program to find the repeated items of a tuple.\n",
    "tup=(1,2,2,4,3,3)\n",
    "l1=list(tup)\n",
    "l2=[]\n",
    "for i in l1:\n",
    "    if l1.count(i)>=2:\n",
    "        if i not in l2: \n",
    "            l2.append(i)\n",
    "print('repeated items:',l2)"
   ]
  },
  {
   "cell_type": "code",
   "execution_count": null,
   "id": "cac25f50",
   "metadata": {},
   "outputs": [],
   "source": [
    "#28. Write a Python program to remove an empty tuple(s) from a list of tuples.\n",
    "a=[(1,23,4),(3,2,1,),()]\n",
    "l1=[]\n",
    "for i in a:\n",
    "    v=len(i)\n",
    "    if v==0:\n",
    "        l1.append(i)\n",
    "a.remove(())\n",
    "print(a)\n",
    "\n",
    "\n",
    "    \n"
   ]
  },
  {
   "cell_type": "code",
   "execution_count": null,
   "id": "8af21fa2",
   "metadata": {},
   "outputs": [],
   "source": [
    "#29.Write a Python program to unzip a list of tuples into individual lists.\n",
    "tup=[(1,2,3,4,5),(\"vijay\",),(1.5,2.5)]\n",
    "(t1,t2,t3)=tup\n",
    "t1=list(t1)\n",
    "t2=list(t2)\n",
    "t3=list(t3)\n",
    "print(t1)\n",
    "print(t2)\n",
    "print(t3)"
   ]
  },
  {
   "cell_type": "code",
   "execution_count": null,
   "id": "1b1100d6",
   "metadata": {},
   "outputs": [],
   "source": [
    "#30.Write a Python program to convert a list of tuples into a dictionary.\n",
    "tup=[(\"hii\",1),(\"be\",2)]\n",
    "x=dict(tup)\n",
    "print(x)"
   ]
  },
  {
   "cell_type": "code",
   "execution_count": null,
   "id": "a1abd789",
   "metadata": {},
   "outputs": [],
   "source": [
    "#31.How will you create a dictionary using tuples in python?\n",
    "#using dict()function we can convert tuples in dictionary.\n",
    "t1=((1,2),(3,2),(11,23))\n",
    "v1=dict(t1)\n",
    "type(v1)\n",
    "print(v1)\n"
   ]
  },
  {
   "cell_type": "code",
   "execution_count": null,
   "id": "45ca090a",
   "metadata": {},
   "outputs": [],
   "source": [
    "#32.Write a Python script to sort (ascending and descending) a dictionary by value.\n",
    "dict={'h':2,\"v\":4,\"c\":3,'g':5,1:34567,32:21}\n",
    "v=dict.values()\n",
    "x=list(v)\n",
    "x.sort()\n",
    "print(x)"
   ]
  },
  {
   "cell_type": "code",
   "execution_count": null,
   "id": "62529d28",
   "metadata": {},
   "outputs": [],
   "source": [
    "#33.Write a Python script to concatenate following dictionaries to create a new one.\n",
    "d1={\"hii\":1,23:4322}\n",
    "d2={1:3,3:432}\n",
    "d={}\n",
    "for i in (d1,d2):\n",
    "    d.update(i)\n",
    "print(d)"
   ]
  },
  {
   "cell_type": "code",
   "execution_count": null,
   "id": "0a39843f",
   "metadata": {},
   "outputs": [],
   "source": [
    "#34.Write a Python script to check if a given key already exists in a dictionary.\n",
    "key='vijay'\n",
    "d1={1:20,0:32,\"Vijay\":69}\n",
    "for i in d1:\n",
    "    if i ==key:\n",
    "        print(key,\"is already exist\")\n",
    "    else:\n",
    "        print(i,\"not exist\")\n"
   ]
  },
  {
   "cell_type": "code",
   "execution_count": null,
   "id": "cb59e2a5",
   "metadata": {},
   "outputs": [],
   "source": [
    "#35. How Do You Traverse Through A Dictionary Object In Python?\n",
    "#traverse means access each elements.\n",
    "d1={'hii':1,2:5}\n",
    "x=d1.items()\n",
    "for i in x:\n",
    "    print(i)\n"
   ]
  },
  {
   "cell_type": "code",
   "execution_count": null,
   "id": "9504cf46",
   "metadata": {},
   "outputs": [],
   "source": [
    "#36. How Do You Check The Presence Of A Key In A Dictionary?\n",
    "d1= {\n",
    "    'Gujarat': 'Gandhinagar',\n",
    "    'Maharashtra': 'Mumbai',\n",
    "    'Rajasthan': 'Jaipur',\n",
    "    'Bihar': 'Patna'}\n",
    "for i in d1:\n",
    "    print(i)"
   ]
  },
  {
   "cell_type": "code",
   "execution_count": null,
   "id": "3e2ce597",
   "metadata": {},
   "outputs": [],
   "source": [
    "#37.Write a Python script to print a dictionary where the keys are numbers between 1 and 15\n",
    "d1={}\n",
    "for i in range(1,16):\n",
    "    d1[i]=i*i\n",
    "print(d1)"
   ]
  },
  {
   "cell_type": "code",
   "execution_count": null,
   "id": "90110068",
   "metadata": {},
   "outputs": [],
   "source": [
    "#38. Write a Python program to check multiple keys exists in a dictionary?\n",
    "#in dictionary it doesn't allow duplicate keys.\n",
    "d={1:34,2:43,3:54,1:322}\n",
    "d1={}\n",
    "for i in d:\n",
    "    if i not in d1:\n",
    "        d1.update(d)\n",
    "print(d)"
   ]
  },
  {
   "cell_type": "code",
   "execution_count": null,
   "id": "880b9dcb",
   "metadata": {},
   "outputs": [],
   "source": [
    "#39.Write a Python script to merge two Python dictionaries?\n",
    "d={1:23,3:321}\n",
    "d1={0:2345,9:87}\n",
    "d2={}\n",
    "for i in (d,d1):\n",
    "    d2.update(i)\n",
    "print(d2)"
   ]
  },
  {
   "cell_type": "code",
   "execution_count": null,
   "id": "f9b68d64",
   "metadata": {},
   "outputs": [],
   "source": [
    "#40.Write a Python program to map two lists into a dictionary.\n",
    "#take two list & convert into dictionary.\n",
    "l1=[[1,23],[5,3]]\n",
    "l2=[[5,4],[2,1]]\n",
    "d={}\n",
    "dict(l1)\n",
    "dict(l2)\n",
    "ds=d.update(l1)\n",
    "ad=d.update(l2)\n",
    "print(d)"
   ]
  },
  {
   "cell_type": "code",
   "execution_count": null,
   "id": "b27e4d38",
   "metadata": {},
   "outputs": [],
   "source": [
    "#41.Write a Python program to combine two dictionary adding values for common keys.\n",
    "d1 = {'a': 100, 'b': 200, 'c':300}\n",
    "d2 = {'a': 300, 'b': 200,'d':400}\n",
    "for i in d1:\n",
    "    if i in d2:\n",
    "        d2[i]=d2[i]+d1[i]\n",
    "    else:\n",
    "        d2[i]=d1[i]\n",
    "print(d2)"
   ]
  },
  {
   "cell_type": "code",
   "execution_count": null,
   "id": "33fb7fd6",
   "metadata": {},
   "outputs": [],
   "source": [
    "#42.Write a Python program to print all unique values in a dictionary.\n",
    "d1={1:223,32:21321,4:2,3:2}\n",
    "d1.\n",
    "l1=[]\n",
    "x=list(d1.values())\n",
    "for i in x:\n",
    "    if i not in l1:\n",
    "        l1.append(i)\n",
    "print('unique values of dict:',l1)\n",
    "    "
   ]
  },
  {
   "cell_type": "code",
   "execution_count": null,
   "id": "8cd275c3",
   "metadata": {},
   "outputs": [],
   "source": [
    "#43.Why Do You Use the Zip () Method in Python?\n",
    "# Python's zip() function creates an iterator that will aggregate elements from two or more iterables.\n",
    "# You can use the resulting iterator to quickly and consistently solve common programming problems,\n",
    "# like creating dictionaries\n"
   ]
  },
  {
   "cell_type": "code",
   "execution_count": null,
   "id": "c230044d",
   "metadata": {},
   "outputs": [],
   "source": [
    "#44.Write a Python program to create and display all combinations of letters,\n",
    "#selecting each letter from a different key in a dictionary.\n",
    "# Sample data: {'1': ['a','b'], '2': ['c','d']}\n",
    "#Expected Output: ac ad bc bd\n",
    "d1={'1': ['a','b'], '2': ['c','d']}\n",
    "x=list(d1.values())\n",
    "l1=[]\n",
    "for i in x[0]:\n",
    "    for j in x[1]:\n",
    "        l1.append(i+j)\n",
    "print(l1)\n",
    "       \n",
    "\n",
    "\n",
    "\n"
   ]
  },
  {
   "cell_type": "code",
   "execution_count": null,
   "id": "56d1ca5e",
   "metadata": {},
   "outputs": [],
   "source": [
    "#45. Write a Python program to find the highest 3 values in a dictionary\n",
    "d1={1:23,2:4325,4:4321,3:342,5:23,234:4477,654:643322}\n",
    "x=list(d1.values())\n",
    "a=max(x)\n",
    "x.remove(a)\n",
    "b=max(x)\n",
    "x.remove(b)\n",
    "c=max(x)\n",
    "x.remove(c)\n",
    "print(a,b,c)\n",
    "\n"
   ]
  },
  {
   "cell_type": "code",
   "execution_count": null,
   "id": "80aabca3",
   "metadata": {},
   "outputs": [],
   "source": [
    "d1={1:23,2:4325,4:4321,3:342965285,5:2367890,234:4477,654:643322}\n",
    "x=list(d1.values())\n",
    "x.sort()\n",
    "v=x[-1:-4:-1]\n",
    "print('highest 3 values:',v)\n"
   ]
  },
  {
   "cell_type": "code",
   "execution_count": null,
   "id": "e30147f0",
   "metadata": {},
   "outputs": [],
   "source": [
    "#46. Write a Python program to combine values in python list of dictionaries. \n",
    "#Sample data: [{'item': 'item1', 'amount': 400}, {'item': 'item2', 'amount': 300},{'item': 'item1', 'amount': 750}]\n",
    "#Expected Output: Counter ({'item1': 1150, 'item2': 300})\n",
    "l1= [{'item': 'item1', 'amount': 400}, {'item': 'item2', 'amount': 300},{'item': 'item1', 'amount': 750}]\n",
    "all_keys = []\n",
    "for single_dict in l1:\n",
    "#     print(list(single_dict.values()))\n",
    "    all_keys.append(list(single_dict.values())[0])\n",
    "\n",
    "# print(all_keys)\n",
    "final_dict = dict.fromkeys(all_keys, 0)\n",
    "\n",
    "for single_key in final_dict:\n",
    "    for single_dict in l1:\n",
    "        values_list = list(single_dict.values())\n",
    "        if single_key == values_list[0]:\n",
    "            final_dict[single_key] += values_list[1]\n",
    "            continue\n",
    "        else:\n",
    "            continue\n",
    "print(final_dict)\n"
   ]
  },
  {
   "cell_type": "code",
   "execution_count": null,
   "id": "d5305e8d",
   "metadata": {},
   "outputs": [],
   "source": [
    "#47.Write a Python program to create a dictionary from a string.\n",
    "# Note: Track the count of the letters from the string. Sample string:'w3resource'\n",
    "#Expected output: {'3': 1,’s’: 1, 'r': 2, 'u': 1, 'w': 1, 'c': 1, 'e': 2, 'o': 1}\n",
    "str1='w3resource'\n",
    "d1={}\n",
    "for i in str1:\n",
    "    d1[i]=str1.count(i)\n",
    "print(d1)\n",
    "\n"
   ]
  },
  {
   "cell_type": "code",
   "execution_count": null,
   "id": "7dc5efa2",
   "metadata": {},
   "outputs": [],
   "source": [
    "#48.Write a Python function to calculate the factorial of a number (a non\u0002negative integer).\n",
    "def vijay(num):\n",
    "    for i in range(1,num): \n",
    "        num = num * i\n",
    "    return num\n",
    "\n",
    "print(vijay(int(input('enter no:'))))\n"
   ]
  },
  {
   "cell_type": "code",
   "execution_count": null,
   "id": "d013f22c",
   "metadata": {},
   "outputs": [],
   "source": [
    "#49.Write a Python function to check whether a number is in a given range\n",
    "def ch(num):\n",
    "        if num in range(0,11):\n",
    "            print(num,' is exist')\n",
    "        else:\n",
    "            print(num,\"doesn't exist\")\n",
    "print(ch(int(input())))"
   ]
  },
  {
   "cell_type": "code",
   "execution_count": null,
   "id": "c232daa9",
   "metadata": {},
   "outputs": [],
   "source": [
    "#50.write a Python function to check whether a number is perfect or not.\n",
    "# perfect number is a positive integer that is equal to the sum of its proper divisors.\n",
    "def f1(num):\n",
    "    sum = 0\n",
    "    for x in range(1, num):\n",
    "        if num % x == 0:\n",
    "            sum += x\n",
    "    return sum == num\n",
    "f1(int(input()))\n"
   ]
  },
  {
   "cell_type": "code",
   "execution_count": null,
   "id": "c8f8581a",
   "metadata": {},
   "outputs": [],
   "source": [
    "#51.Write a Python function that checks whether a passed string is palindrome or not\n",
    "#palindrome means given string is same as its reverse.\n",
    "#ex.nayan==nayan\n",
    "def f1(str1):\n",
    "    if str1==str1[-1::-1]:\n",
    "        print('string is palindrome')\n",
    "    else:\n",
    "        print('not polindrome')\n",
    "f1(input())"
   ]
  },
  {
   "cell_type": "code",
   "execution_count": null,
   "id": "80e975d2",
   "metadata": {},
   "outputs": [],
   "source": [
    "#52.How do you perform pattern matching in Python? Explain\n"
   ]
  },
  {
   "cell_type": "code",
   "execution_count": null,
   "id": "033fb6e9",
   "metadata": {},
   "outputs": [],
   "source": [
    "#53.What is lambda function in python? What we call a function which is incomplete version of a function?\n",
    "# A lambda function is a small anonymous function.\n",
    "# A lambda function has no name\n",
    "# A lambda function can take any number of arguments, but can only have one expression.\n",
    "\n",
    "# A function which is incomplete version of a function is stub"
   ]
  },
  {
   "cell_type": "code",
   "execution_count": null,
   "id": "cc585043",
   "metadata": {},
   "outputs": [],
   "source": [
    "#54. How many Basic Types of functions are available in python?\n",
    "# There are mainly two types of basic functions in python but we will consider 3\n",
    "# They are:\n",
    "# 1. Built in functions or pre-defined functions\n",
    "# 2. User defined function\n",
    "# 3. Anonymous function"
   ]
  },
  {
   "cell_type": "code",
   "execution_count": null,
   "id": "c6a7121c",
   "metadata": {},
   "outputs": [],
   "source": [
    "#55. How can you pick a random item from a list or tuple?\n",
    "#--> In Python, you can randomly sample elements from a list with choice() , sample() , and choices()\n",
    "# of the random module. These functions can also be applied to a string and tuple. choice() returns\n",
    "# one random element, and sample() and choices() return a list of multiple random elements."
   ]
  },
  {
   "cell_type": "code",
   "execution_count": null,
   "id": "d7bf5441",
   "metadata": {},
   "outputs": [],
   "source": [
    "#62. Write a Python program to convert degree to radian\n",
    "#formula:pi/180*degree\n",
    "a=float(input())\n",
    "pi=3.14\n",
    "rad=a*3.14/180\n",
    "print(rad)\n",
    "\n"
   ]
  },
  {
   "cell_type": "code",
   "execution_count": null,
   "id": "057a3fbc",
   "metadata": {},
   "outputs": [],
   "source": [
    "#63.write a Python program to calculate the area of a trapezoid.\n",
    "#formula :1/2(a+b)h\n",
    "\n",
    "height = float(input(\"Height of trapezoid: \"))\n",
    "base_1 = float(input('Base one value: '))\n",
    "base_2 = float(input('Base two value: '))\n",
    "area = ((base_1 + base_2) / 2) * height\n",
    "print(\"Area is:\", area)\n",
    "\n"
   ]
  },
  {
   "cell_type": "code",
   "execution_count": null,
   "id": "6a88de00",
   "metadata": {},
   "outputs": [],
   "source": [
    "#64.write a Python program to calculate the area of a parallelogram.\n",
    "#formula :base*height\n",
    "base = float(input('Length of base: '))\n",
    "height = float(input('Measurement of height: '))\n",
    "area = base * height\n",
    "print(\"Area is: \", area)\n",
    "\n"
   ]
  },
  {
   "cell_type": "code",
   "execution_count": null,
   "id": "c7b27a8f",
   "metadata": {},
   "outputs": [],
   "source": [
    "#65. Write a Python program to calculate surface volume and area of a cylinder\n",
    "#formula:\n",
    "#volume:3.14*r**2*h\n",
    "#surface area: 2(pi)r*r+2(pi)(r)(h)\n",
    "pi=22/7\n",
    "height = float(input('Height of cylinder: '))\n",
    "radian = float(input('Radius of cylinder: '))\n",
    "volume = pi * radian * radian * height\n",
    "sur_area = ((2*pi*radian) * height) + ((pi*radian**2)*2)\n",
    "print(\"Volume is: \", volume)\n",
    "print(\"Surface Area is: \", sur_area)"
   ]
  },
  {
   "cell_type": "code",
   "execution_count": null,
   "id": "16617e57",
   "metadata": {},
   "outputs": [],
   "source": [
    "#66. Write a Python program to returns sum of all divisors of a number\n",
    "def divisor_sum(num,summ):\n",
    "    for i in range(1,num+1):\n",
    "        if num%i==0:\n",
    "            summ = summ + i\n",
    "        else:\n",
    "            pass\n",
    "    return summ\n",
    "\n",
    "number = int(input('enter number : '))\n",
    "print(divisor_sum(number,0))\n"
   ]
  },
  {
   "cell_type": "code",
   "execution_count": null,
   "id": "4e10ec6a",
   "metadata": {},
   "outputs": [],
   "source": [
    "#67.Write a Python program to find the maximum and minimum numbers from the specified decimal numbers\n"
   ]
  }
 ],
 "metadata": {
  "kernelspec": {
   "display_name": "Python 3 (ipykernel)",
   "language": "python",
   "name": "python3"
  },
  "language_info": {
   "codemirror_mode": {
    "name": "ipython",
    "version": 3
   },
   "file_extension": ".py",
   "mimetype": "text/x-python",
   "name": "python",
   "nbconvert_exporter": "python",
   "pygments_lexer": "ipython3",
   "version": "3.9.12"
  }
 },
 "nbformat": 4,
 "nbformat_minor": 5
}

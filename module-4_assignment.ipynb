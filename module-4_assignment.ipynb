{
 "cells": [
  {
   "cell_type": "code",
   "execution_count": null,
   "id": "8dd18154",
   "metadata": {},
   "outputs": [],
   "source": [
    "\n",
    "#1. What is File function in python? What is keywords to create and write file.\n",
    "#-->file function : it allows the make file to write ttoor read from a file.\n",
    "    #we used open() keyword.\n",
    "\n",
    "    "
   ]
  },
  {
   "cell_type": "code",
   "execution_count": null,
   "id": "44776956",
   "metadata": {},
   "outputs": [],
   "source": [
    "#2. Write a Python program to read an entire text file.\n",
    "with open('vijay.txt','x') as f1:\n",
    "    print(f1.write('this is python.'))\n",
    "    \n",
    "    "
   ]
  },
  {
   "cell_type": "code",
   "execution_count": null,
   "id": "301f1cfd",
   "metadata": {},
   "outputs": [],
   "source": [
    "f1=open('vijay.txt','r') \n",
    "f1.close()"
   ]
  },
  {
   "cell_type": "code",
   "execution_count": null,
   "id": "81d7acad",
   "metadata": {},
   "outputs": [],
   "source": [
    "#3.Write a Python program to append text to a file and display the text.\n",
    "with open('vijay.txt','a') as f2:\n",
    "    f2.write('it is an interpreted language.')\n",
    "    "
   ]
  },
  {
   "cell_type": "code",
   "execution_count": null,
   "id": "7ab0a7a6",
   "metadata": {},
   "outputs": [],
   "source": [
    "with open('vijay.txt','r') as f2:\n",
    "    print(f2.read())"
   ]
  },
  {
   "cell_type": "code",
   "execution_count": null,
   "id": "ae2adc21",
   "metadata": {},
   "outputs": [],
   "source": [
    "#4.Write a Python program to read first n lines of a file.\n",
    "n=int(input('first n lines:'))\n",
    "with open('vijay.txt','r') as f2:\n",
    "    v1=f2.readlines()\n",
    "    for i in v1[0:n]:\n",
    "        print(i)"
   ]
  },
  {
   "cell_type": "code",
   "execution_count": null,
   "id": "a678aa94",
   "metadata": {},
   "outputs": [],
   "source": [
    "#5 Write a Python program to read last n lines of a file.\n",
    "n=int(input('last n lines:'))\n",
    "with open('vijay.txt','r') as f2:\n",
    "    v1=f2.readlines()\n",
    "    for i in v1[n:]:\n",
    "        print(i)"
   ]
  },
  {
   "cell_type": "code",
   "execution_count": null,
   "id": "eb068bfb",
   "metadata": {},
   "outputs": [],
   "source": [
    "#6. Write a Python program to read a file line by line and store it into a list\n",
    "l1=[]\n",
    "with open('vijay.txt','r') as f2:\n",
    "    v1=f2.readlines()\n",
    "\n",
    "for i in v1:\n",
    "   # print(i.strip())\n",
    "    l1.append(i.strip()) \n",
    "print(l1)"
   ]
  },
  {
   "cell_type": "code",
   "execution_count": null,
   "id": "0ec5da6d",
   "metadata": {},
   "outputs": [],
   "source": [
    "#7. Write a Python program to read a file line by line store it into a variable\n",
    "with open('vijay.txt','r') as f2:\n",
    "    v1=f2.readlines()\n",
    "    print(v1)"
   ]
  },
  {
   "cell_type": "code",
   "execution_count": 1,
   "id": "21d70160",
   "metadata": {},
   "outputs": [
    {
     "name": "stdout",
     "output_type": "stream",
     "text": [
      "interpreted\n"
     ]
    }
   ],
   "source": [
    "#8. Write a python program to find the longest words.\n",
    "with open('vijay.txt','r') as f2:\n",
    "    v1=f2.read().split()\n",
    "#     print(v1)\n",
    "max = 0\n",
    "for i in v1:\n",
    "    if len(i)>max and i.isalpha():\n",
    "        max = len(i)\n",
    "        w=i\n",
    "print(w)"
   ]
  },
  {
   "cell_type": "code",
   "execution_count": null,
   "id": "62d575d2",
   "metadata": {},
   "outputs": [],
   "source": [
    "#9. Write a Python program to count the number of lines in a text file.\n",
    "with open('vijay.txt','r') as f2:\n",
    "    v1=f2.readlines()\n",
    "print(len(v1))"
   ]
  },
  {
   "cell_type": "code",
   "execution_count": null,
   "id": "01babbe5",
   "metadata": {},
   "outputs": [],
   "source": [
    "#10. Write a Python program to count the frequency of words in a file.\n",
    "with open('vijay.txt','r') as f2:\n",
    "    v1=f2.read().split()\n",
    "#     print(v1)\n",
    "str1=''\n",
    "for i in v1:\n",
    "    if i not in str1:\n",
    "        str1 = str1+i\n",
    "        print(i,v1.count(i))\n",
    "    \n"
   ]
  },
  {
   "cell_type": "code",
   "execution_count": null,
   "id": "fb40c983",
   "metadata": {},
   "outputs": [],
   "source": [
    "#11. Write a Python program to write a list to a file.\n",
    "l1=['hii i am vijay.\\n','how are you all\\n','i hope you all doing good.']\n",
    "with open ('geet.txt','w')as g:\n",
    "    for i in l1:\n",
    "        g.write(i)"
   ]
  },
  {
   "cell_type": "code",
   "execution_count": null,
   "id": "b1d1ff47",
   "metadata": {},
   "outputs": [],
   "source": [
    "#12. Write a Python program to copy the contents of a file to another file.\n",
    "with open('vijay.txt','r') as f1:\n",
    "    with open('meher.txt','a') as f2:\n",
    "        for i in f1:\n",
    "            f2.write(i)"
   ]
  },
  {
   "cell_type": "code",
   "execution_count": null,
   "id": "b2bc870a",
   "metadata": {},
   "outputs": [],
   "source": [
    "#13. Explain Exception handling? What is an Error in Python?\n",
    "#An Exception is an error that happens during the execution of a program.\n",
    "#Whenever there is an error, Python generates an exception that could be handled.\n",
    "#It basically prevents the program from getting crashed."
   ]
  },
  {
   "cell_type": "code",
   "execution_count": null,
   "id": "66437ce2",
   "metadata": {},
   "outputs": [],
   "source": []
  },
  {
   "cell_type": "code",
   "execution_count": null,
   "id": "bb2803af",
   "metadata": {},
   "outputs": [],
   "source": [
    "#14.How many except statements can a try-except block have? Name Some built-in exception classes:\n",
    " #-->at least one except statement.\n",
    " #-->KeyError,ValueError,IndexError,AttributeError,etc."
   ]
  },
  {
   "cell_type": "code",
   "execution_count": null,
   "id": "b1791931",
   "metadata": {},
   "outputs": [],
   "source": [
    "#15.When will the else part of try-except-else be executed?\n",
    "# -->it executed when block can't catch any error.\n"
   ]
  },
  {
   "cell_type": "code",
   "execution_count": null,
   "id": "a65e70fa",
   "metadata": {},
   "outputs": [],
   "source": [
    "#16.Can one block of except statements handle multiple exception?\n",
    "# --> yes,one block of except can handled multiple no.of errors.\n",
    "try:\n",
    "    a=int(input())#ZeroDivisionError\n",
    "    print(10/a)#ValueError\n",
    "    \n",
    "except:\n",
    "    print('its solved.')"
   ]
  },
  {
   "cell_type": "code",
   "execution_count": null,
   "id": "f42f4b95",
   "metadata": {},
   "outputs": [],
   "source": []
  },
  {
   "cell_type": "code",
   "execution_count": null,
   "id": "2c07462c",
   "metadata": {},
   "outputs": [],
   "source": [
    "#17. When is the finally block executed?\n",
    "#--> The finally block always executes when the try block exist.\n",
    "try:\n",
    "    print(x)\n",
    "except:\n",
    "    print('please corect your input')\n",
    "finally:\n",
    "    print('it will be always executed.')\n"
   ]
  },
  {
   "cell_type": "code",
   "execution_count": null,
   "id": "738e25ad",
   "metadata": {},
   "outputs": [],
   "source": []
  },
  {
   "cell_type": "code",
   "execution_count": null,
   "id": "97a150c7",
   "metadata": {},
   "outputs": [],
   "source": [
    "#18.What happens when „1‟== 1 is executed?\n",
    "'1'==1"
   ]
  },
  {
   "cell_type": "code",
   "execution_count": null,
   "id": "69a7bc71",
   "metadata": {},
   "outputs": [],
   "source": [
    "#19.How Do You Handle Exceptions With Try/Except/Finally In Python? Explain with coding snippets.\n",
    "try:\n",
    "    print('1'==1)\n",
    "except:\n",
    "    print('its wrong')\n",
    "finally:\n",
    "    print('nothing ')"
   ]
  },
  {
   "cell_type": "code",
   "execution_count": null,
   "id": "52204e3a",
   "metadata": {},
   "outputs": [],
   "source": [
    "#20. Write python program that user to enter only odd numbers, else will raise an exception.\n",
    "n=int(input())\n",
    "if n%2==0:\n",
    "    print(n,'odd')\n",
    "else:\n",
    "    raise ZeroDivisionError('please enter non zero value')\n",
    "\n",
    "\n",
    "    "
   ]
  },
  {
   "cell_type": "code",
   "execution_count": null,
   "id": "d29b4ee0",
   "metadata": {},
   "outputs": [],
   "source": [
    "                        #----- oops------."
   ]
  },
  {
   "cell_type": "code",
   "execution_count": null,
   "id": "f70f6e11",
   "metadata": {},
   "outputs": [],
   "source": [
    "# # #1. What are oops concepts? Is multiple inheritance supported in java\n",
    "# # # oops -  object oriented programming \n",
    "# # there are 5 concepts of oops.\n",
    "# # 1.class and object\n",
    "# # 2.inheritence\n",
    "# # 3.polymorphism\n",
    "# # 4.encapculation\n",
    "# # 5.abstraction\n",
    "\n",
    "# -->Java doesn't support multiple inheritances in classes\n",
    "# because it can lead to diamond problem and rather than providing\n",
    "# some complex way to solve it, there are better ways through which\n",
    "# we can achieve the same result as multiple inheritances"
   ]
  },
  {
   "cell_type": "code",
   "execution_count": null,
   "id": "818b34a1",
   "metadata": {},
   "outputs": [],
   "source": [
    "#2. How to Define a Class in Python? What Is Self? Give An Example Of A Python Class\n",
    "# -->to define a class in python we use class keyword.\n",
    "# syntax:\n",
    "#     class Class_name:\n",
    "\n",
    "# -->The self parameter is a reference to the current instance of the class,\n",
    "# and is used to access variables that belongs to the class.\n",
    "# it points to the object.\n",
    "\n",
    "# -->Ex. \n",
    "class Person:\n",
    "    var1 = 'money'\n",
    "    def __init__(self,name, age):\n",
    "        self.name = name\n",
    "        self.age = age"
   ]
  },
  {
   "cell_type": "code",
   "execution_count": 8,
   "id": "fe1dd38b",
   "metadata": {},
   "outputs": [],
   "source": [
    "#3.Write a Python class named Rectangle constructed by a length and width \n",
    "# and a method which will compute the area of a rectangle.\n",
    "# fomrula : length*width\n",
    "class Rectangle:\n",
    "\n",
    "    def __init__(self,height,width):\n",
    "        self.height = height\n",
    "        self.width = width\n",
    "    def Area(self):\n",
    "        print(self.height*self.width)\n",
    "    "
   ]
  },
  {
   "cell_type": "code",
   "execution_count": 10,
   "id": "1eb4da25",
   "metadata": {},
   "outputs": [
    {
     "name": "stdout",
     "output_type": "stream",
     "text": [
      "1400\n"
     ]
    }
   ],
   "source": [
    "a1 = Rectangle(56,25)\n",
    "a1.Area()"
   ]
  },
  {
   "cell_type": "code",
   "execution_count": 17,
   "id": "2f2120b9",
   "metadata": {},
   "outputs": [],
   "source": [
    "#  4.Write a Python class named Circle constructed by a radius and two \n",
    "# # methods which will compute the area and the perimeter of a circle.\n",
    "# formula : area of circle = 3.14*r**2\n",
    "#          perimeter of circle =2*3.14*r\n",
    "\n",
    "class Circle:\n",
    "    def __init__(self,r):\n",
    "        self.r = r\n",
    "        \n",
    "    def area(self):\n",
    "        print(3.14*self.r**2)\n",
    "        \n",
    "    def perimeter(self):\n",
    "        print(2*3.14*self.r)"
   ]
  },
  {
   "cell_type": "code",
   "execution_count": 22,
   "id": "0e4d359c",
   "metadata": {},
   "outputs": [
    {
     "name": "stdout",
     "output_type": "stream",
     "text": [
      "6358.5\n"
     ]
    }
   ],
   "source": [
    "c1 = Circle(45)\n",
    "c1.area()"
   ]
  },
  {
   "cell_type": "code",
   "execution_count": 25,
   "id": "d56ba0e3",
   "metadata": {},
   "outputs": [
    {
     "name": "stdout",
     "output_type": "stream",
     "text": [
      "282.6\n"
     ]
    }
   ],
   "source": [
    "c1.perimeter()"
   ]
  },
  {
   "cell_type": "code",
   "execution_count": 41,
   "id": "9a0233eb",
   "metadata": {},
   "outputs": [],
   "source": [
    "# 5.Explain Inheritance in Python with an example? What is init? Or What Is \n",
    "# A Constructor In Python?\n",
    "#-->inheritence is use for inherit one class to another class.\n",
    "# Ex.\n",
    "class vehicles:\n",
    "    \n",
    "    def Car(self,model,color):\n",
    "        self.m = model\n",
    "        self.c = color\n",
    "\n",
    "class Vahan(vehicles):\n",
    "    \n",
    "    def bike(self,model,color):\n",
    "        self.m = model\n",
    "        self.c = color\n",
    "        "
   ]
  },
  {
   "cell_type": "code",
   "execution_count": 51,
   "id": "dd7a5882",
   "metadata": {},
   "outputs": [],
   "source": [
    "v1 = Vahan()\n",
    "v1.Car('hundai','grey')"
   ]
  },
  {
   "cell_type": "code",
   "execution_count": 50,
   "id": "6561d71a",
   "metadata": {},
   "outputs": [
    {
     "data": {
      "text/plain": [
       "'grey'"
      ]
     },
     "execution_count": 50,
     "metadata": {},
     "output_type": "execute_result"
    }
   ],
   "source": [
    "v1.c"
   ]
  },
  {
   "cell_type": "code",
   "execution_count": 52,
   "id": "0940b4fd",
   "metadata": {},
   "outputs": [],
   "source": [
    "# 6.What is Instantiation in terms of OOP terminology?\n",
    "#--> Instantiation refers to creating an object/instance for a class.\n"
   ]
  },
  {
   "cell_type": "code",
   "execution_count": 54,
   "id": "1f695610",
   "metadata": {},
   "outputs": [],
   "source": [
    "# 7.What is used to check whether an object o is an instance of class A?\n",
    "# -->"
   ]
  },
  {
   "cell_type": "code",
   "execution_count": 56,
   "id": "29856a81",
   "metadata": {},
   "outputs": [],
   "source": [
    "# 8. What relationship is appropriate for Course and Faculty?"
   ]
  },
  {
   "cell_type": "code",
   "execution_count": null,
   "id": "0c48b878",
   "metadata": {},
   "outputs": [],
   "source": [
    "# 9.what relationship is appropriate for Student and Person?\n"
   ]
  }
 ],
 "metadata": {
  "kernelspec": {
   "display_name": "Python 3 (ipykernel)",
   "language": "python",
   "name": "python3"
  },
  "language_info": {
   "codemirror_mode": {
    "name": "ipython",
    "version": 3
   },
   "file_extension": ".py",
   "mimetype": "text/x-python",
   "name": "python",
   "nbconvert_exporter": "python",
   "pygments_lexer": "ipython3",
   "version": "3.9.12"
  }
 },
 "nbformat": 4,
 "nbformat_minor": 5
}
